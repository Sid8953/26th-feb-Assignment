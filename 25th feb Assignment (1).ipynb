{
 "cells": [
  {
   "cell_type": "code",
   "execution_count": 1,
   "id": "cddf8f53-935d-4306-8e8b-3406e93ab297",
   "metadata": {},
   "outputs": [
    {
     "name": "stdout",
     "output_type": "stream",
     "text": [
      "Requirement already satisfied: pandas in /opt/conda/lib/python3.10/site-packages (1.5.2)\n",
      "Requirement already satisfied: python-dateutil>=2.8.1 in /opt/conda/lib/python3.10/site-packages (from pandas) (2.8.2)\n",
      "Requirement already satisfied: pytz>=2020.1 in /opt/conda/lib/python3.10/site-packages (from pandas) (2022.6)\n",
      "Requirement already satisfied: numpy>=1.21.0 in /opt/conda/lib/python3.10/site-packages (from pandas) (1.23.5)\n",
      "Requirement already satisfied: six>=1.5 in /opt/conda/lib/python3.10/site-packages (from python-dateutil>=2.8.1->pandas) (1.16.0)\n",
      "Note: you may need to restart the kernel to use updated packages.\n"
     ]
    }
   ],
   "source": [
    "pip install pandas"
   ]
  },
  {
   "cell_type": "code",
   "execution_count": 2,
   "id": "d34fbbbc-8cd6-4771-b818-0e5790dabcc1",
   "metadata": {},
   "outputs": [],
   "source": [
    "#Consider following code to answer further questions:\n",
    "import pandas as pd\n",
    "course_name = ['Data Science', 'Machine Learning', 'Big Data', 'Data Engineer']\n",
    "duration = [2,3,6,4]\n",
    "df = pd.DataFrame(data = {'course_name' : course_name, 'duration' : duration})"
   ]
  },
  {
   "cell_type": "markdown",
   "id": "1903c385-a3ac-4222-a560-c0a4b1b36a03",
   "metadata": {},
   "source": [
    "# Ans 1"
   ]
  },
  {
   "cell_type": "code",
   "execution_count": 2,
   "id": "84ce09b1-7759-4159-8908-eb8a69be3dd2",
   "metadata": {},
   "outputs": [
    {
     "name": "stdout",
     "output_type": "stream",
     "text": [
      "course_name    Machine Learning\n",
      "duration                      3\n",
      "Name: 1, dtype: object\n"
     ]
    }
   ],
   "source": [
    "print(df.iloc[1,:])"
   ]
  },
  {
   "cell_type": "markdown",
   "id": "64e3bc80-c815-4101-83b5-bc0e4327f308",
   "metadata": {},
   "source": [
    "# Ans 2\n",
    "\n",
    "loc and iloc are two methods provided by the pandas library in Python to access and manipulate data in a pandas DataFrame.\n",
    "\n",
    "The loc method is used to access data in a DataFrame based on the labels of the rows and columns. It takes two parameters, the row label(s) and column label(s), and returns the data at the specified location. The row and column labels can be either a single label or a list of labels. For example, df.loc[0, 'column_name'] returns the data at the first row and the specified column, while df.loc[[0, 1, 2], ['column_1', 'column_2']] returns the data in the specified rows and columns.\n",
    "\n",
    "On the other hand, the iloc method is used to access data in a DataFrame based on the integer position of the rows and columns. It takes two parameters, the row position(s) and column position(s), and returns the data at the specified location. The row and column positions can be either a single position or a list of positions. For example, df.iloc[0, 1] returns the data at the first row and the second column, while df.iloc[[0, 1, 2], [0, 1]] returns the data in the specified rows and columns based on their integer position.\n",
    "\n",
    "In summary, the main difference between the loc and iloc methods is that loc uses labels to access data, while iloc uses integer positions. Therefore, loc is used to access data by label, and iloc is used to access data by integer position."
   ]
  },
  {
   "cell_type": "markdown",
   "id": "84d32650-48b1-47ae-a651-d4741d1f7044",
   "metadata": {},
   "source": [
    "# Ans 3"
   ]
  },
  {
   "cell_type": "code",
   "execution_count": 3,
   "id": "3dce7dce-29ad-4108-8b8b-4f0fd6f36f2d",
   "metadata": {},
   "outputs": [],
   "source": [
    "import pandas as pd\n",
    "import numpy as np\n",
    "columns = ['column_1', 'column_2', 'column_3', 'column_4', 'column_5', 'column_6']\n",
    "indices = [1,2,3,4,5,6]\n",
    "#Creating a dataframe:\n",
    "df1 = pd.DataFrame(np.random.rand(6,6), columns = columns, index = indices)"
   ]
  },
  {
   "cell_type": "markdown",
   "id": "786d66d9-7fd3-48cc-abb3-1b72fe45f89c",
   "metadata": {},
   "source": [
    "To reindex the given DataFrame based on the list [3, 0, 1, 2], you can use the reindex method of the DataFrame and pass the list as an argument. The code to reindex the DataFrame and store it in a new variable new_df would be:"
   ]
  },
  {
   "cell_type": "code",
   "execution_count": 4,
   "id": "d85441ba-3636-424d-bbc4-2fac7fdbe827",
   "metadata": {},
   "outputs": [],
   "source": [
    "new_df = df1.reindex([3, 0, 1, 2])"
   ]
  },
  {
   "cell_type": "markdown",
   "id": "7dcf7060-f3b1-47d3-815d-709c531d1821",
   "metadata": {},
   "source": [
    "To find the output for new_df.loc[2], you can use the loc method of the DataFrame, which uses the labels of the rows and columns to access the data. The code to find the output for this would be:"
   ]
  },
  {
   "cell_type": "code",
   "execution_count": 5,
   "id": "43ce797e-bca0-4bab-bcb5-a56f9ffed7c3",
   "metadata": {},
   "outputs": [
    {
     "name": "stdout",
     "output_type": "stream",
     "text": [
      "column_1    0.095529\n",
      "column_2    0.582783\n",
      "column_3    0.385602\n",
      "column_4    0.551715\n",
      "column_5    0.131750\n",
      "column_6    0.526989\n",
      "Name: 2, dtype: float64\n"
     ]
    }
   ],
   "source": [
    "print(new_df.loc[2])"
   ]
  },
  {
   "cell_type": "markdown",
   "id": "0b29db40-5f8a-41f0-b283-7e98b0868a41",
   "metadata": {},
   "source": [
    "To find the output for new_df.iloc[2], you can use the iloc method of the DataFrame, which uses the integer position of the rows and columns to access the data. The code to find the output for this would be:"
   ]
  },
  {
   "cell_type": "code",
   "execution_count": 6,
   "id": "7373ae0d-8db6-4afe-91f4-5d595bf8e1ac",
   "metadata": {},
   "outputs": [
    {
     "name": "stdout",
     "output_type": "stream",
     "text": [
      "column_1    0.156620\n",
      "column_2    0.446655\n",
      "column_3    0.673635\n",
      "column_4    0.075449\n",
      "column_5    0.046463\n",
      "column_6    0.276370\n",
      "Name: 1, dtype: float64\n"
     ]
    }
   ],
   "source": [
    "print(new_df.iloc[2])"
   ]
  },
  {
   "cell_type": "markdown",
   "id": "12d795ea-9f10-4c49-95d8-d332511a1dab",
   "metadata": {},
   "source": [
    "# Ans 4\n",
    "\n",
    "  1- mean of each and every column present in the dataframe.\n",
    "  \n",
    "  2- standard deviation of column, ‘column_2’\n",
    "\n",
    "\n",
    "To find the mean of each column in the DataFrame df1, you can use the mean method of the DataFrame. The code to find the mean of each column would be:"
   ]
  },
  {
   "cell_type": "code",
   "execution_count": 7,
   "id": "438ff476-894b-4038-b890-d72b2dc26a20",
   "metadata": {},
   "outputs": [
    {
     "name": "stdout",
     "output_type": "stream",
     "text": [
      "column_1    0.318785\n",
      "column_2    0.594149\n",
      "column_3    0.505168\n",
      "column_4    0.533210\n",
      "column_5    0.229329\n",
      "column_6    0.412602\n",
      "dtype: float64\n"
     ]
    }
   ],
   "source": [
    "print(df1.mean())"
   ]
  },
  {
   "cell_type": "markdown",
   "id": "9156c979-8db5-4d15-b146-6291d7f5fe30",
   "metadata": {},
   "source": [
    "To find the standard deviation of the column 'column_2', you can use the std method of the DataFrame and pass the column name as an argument. The code to find the standard deviation of the column 'column_2' would be:"
   ]
  },
  {
   "cell_type": "code",
   "execution_count": 8,
   "id": "e782a07e-ec31-4fe9-a36d-173788cae99c",
   "metadata": {},
   "outputs": [
    {
     "name": "stdout",
     "output_type": "stream",
     "text": [
      "0.3349149747288685\n"
     ]
    }
   ],
   "source": [
    "\n",
    "print(df1['column_2'].std())"
   ]
  },
  {
   "cell_type": "markdown",
   "id": "b08061fd-a4cc-403b-83f4-66c4b64902c8",
   "metadata": {},
   "source": [
    "# Ans 5\n"
   ]
  },
  {
   "cell_type": "raw",
   "id": "c194244f-cc75-4263-b2ef-5cdf4dda7853",
   "metadata": {},
   "source": [
    " If you are getting errors in executing it then explain why.\n",
    "[Hint: To replace the data use df1.loc[] and equate this to string data of your choice.]"
   ]
  },
  {
   "cell_type": "markdown",
   "id": "2dd16f33-2209-495f-89a1-ccdd34e38e99",
   "metadata": {},
   "source": [
    "To replace the data in the second row of the column 'column_2' with a string variable, you can use the loc method of the DataFrame to access the cell and assign the new value to it. The code to replace the data in the second row of 'column_2' with a string variable would be:"
   ]
  },
  {
   "cell_type": "code",
   "execution_count": 9,
   "id": "491e88af-f4cc-4609-80d4-3aa6f1c2781a",
   "metadata": {},
   "outputs": [
    {
     "name": "stdout",
     "output_type": "stream",
     "text": [
      "   column_1         column_2  column_3  column_4  column_5  column_6\n",
      "1  0.156620         0.446655  0.673635  0.075449  0.046463  0.276370\n",
      "2  0.095529  new string data  0.385602  0.551715  0.131750  0.526989\n",
      "3  0.560234         0.423479  0.243788  0.519461  0.531475  0.740265\n",
      "4  0.533996         0.989712  0.613228  0.563886  0.407063  0.049987\n",
      "5  0.366991         0.142098  0.979631  0.975454  0.171627  0.819763\n",
      "6  0.199341         0.980165  0.135127  0.513294  0.087594  0.062239\n"
     ]
    }
   ],
   "source": [
    "df1.loc[2, 'column_2'] = 'new string data'\n",
    "print(df1)"
   ]
  },
  {
   "cell_type": "markdown",
   "id": "fb57e684-ce34-43e0-a2d3-489ad7de439f",
   "metadata": {},
   "source": [
    "This will replace the data in the second row of the column 'column_2' with the string value 'new string data'.\n",
    "\n",
    "However, you cannot find the mean of the column 'column_2' after replacing the data with a string variable. This is because the mean method only works with numerical data, and a string value cannot be converted to a numerical value. Therefore, trying to find the mean of the column after replacing the data with a string variable will result in a TypeError.\n",
    "\n",
    "If you want to find the mean of the column 'column_2' after replacing the data with a string variable, you need to convert the string data to a numerical data type. You can do this by replacing the string value with a numerical value, such as an integer or a float. Once you have replaced the string value with a numerical value, you can find the mean of the column using the mean method."
   ]
  },
  {
   "cell_type": "markdown",
   "id": "3f39ff32-09f6-4e71-8025-93c5b3a922fd",
   "metadata": {},
   "source": [
    "# Ans 6\n",
    "\n",
    "In pandas, the window function is a way of performing calculations on a subset of rows of a DataFrame. It allows you to compute a function over a sliding window of rows, where the size and shape of the window can be specified.\n",
    "\n",
    "There are several types of window functions in pandas, including:\n",
    "\n",
    "Rolling: The rolling function allows you to compute rolling statistics on a DataFrame or a Series. It takes a window size as an argument and calculates the statistic for each window.\n",
    "\n",
    "Expanding: The expanding function allows you to compute expanding statistics on a DataFrame or a Series. It calculates the statistic for all previous rows, from the start of the DataFrame or Series up to the current row.\n",
    "\n",
    "EWM (Exponentially Weighted Moving): The EWM function allows you to compute exponentially weighted moving statistics on a DataFrame or a Series. It calculates the statistic using an exponentially weighted moving window, where more weight is given to recent values.\n",
    "\n",
    "Groupby: The groupby function allows you to compute statistics on a DataFrame or a Series for each group defined by one or more columns. You can then apply a window function to the grouped data.\n",
    "\n",
    "Resample: The resample function allows you to resample a time series DataFrame or a Series to a specified frequency. You can then apply a window function to the resampled data.\n",
    "\n",
    "These window functions can be applied to a variety of statistical operations, including sum, mean, standard deviation, min, max, and many others. They are useful for analyzing time series data or any data where the order of the rows is significant."
   ]
  },
  {
   "cell_type": "markdown",
   "id": "d75ac7dc-90c5-42cb-adf3-16d78b5bc938",
   "metadata": {},
   "source": [
    "# Ans 7\n",
    "\n",
    "[Hint: Use pandas.datetime function]"
   ]
  },
  {
   "cell_type": "code",
   "execution_count": 10,
   "id": "1da79266-2723-40f6-b469-e18ce7a926e6",
   "metadata": {},
   "outputs": [
    {
     "name": "stdout",
     "output_type": "stream",
     "text": [
      "Current month: 12\n",
      "Current year: 2023\n"
     ]
    },
    {
     "name": "stderr",
     "output_type": "stream",
     "text": [
      "/tmp/ipykernel_77/4127203122.py:3: FutureWarning: The pandas.datetime class is deprecated and will be removed from pandas in a future version. Import from datetime module instead.\n",
      "  now = pd.datetime.now()\n"
     ]
    }
   ],
   "source": [
    "import pandas as pd\n",
    "\n",
    "now = pd.datetime.now()\n",
    "\n",
    "current_month = now.month\n",
    "current_year = now.year\n",
    "\n",
    "print(f\"Current month: {current_month}\")\n",
    "print(f\"Current year: {current_year}\")"
   ]
  },
  {
   "cell_type": "markdown",
   "id": "05ec7780-eb30-4c0d-97ad-31a155411a19",
   "metadata": {},
   "source": [
    "#  we can use the timestamp function to perform above operation of printing the current month and year."
   ]
  },
  {
   "cell_type": "code",
   "execution_count": 11,
   "id": "bb7ff93c-1e0a-4a05-8be2-69f1d218cf33",
   "metadata": {},
   "outputs": [
    {
     "name": "stdout",
     "output_type": "stream",
     "text": [
      "Current month: 12\n",
      "Current year: 2023\n"
     ]
    }
   ],
   "source": [
    "import pandas as pd\n",
    "\n",
    "now = pd.Timestamp.now()\n",
    "\n",
    "current_month = now.month\n",
    "current_year = now.year\n",
    "\n",
    "print(f\"Current month: {current_month}\")\n",
    "print(f\"Current year: {current_year}\")"
   ]
  },
  {
   "cell_type": "markdown",
   "id": "94804d3f-9c9e-4be6-bb97-926a4796d77d",
   "metadata": {},
   "source": [
    "# Ans 8"
   ]
  },
  {
   "cell_type": "code",
   "execution_count": 12,
   "id": "e8558283-c940-43ff-b696-ac9d4eda7224",
   "metadata": {},
   "outputs": [
    {
     "name": "stdin",
     "output_type": "stream",
     "text": [
      "Enter the first date (YYYY-MM-DD):  2020-01-01\n",
      "Enter the second date (YYYY-MM-DD):  2022-01-01\n"
     ]
    },
    {
     "name": "stdout",
     "output_type": "stream",
     "text": [
      "The time difference between 2020-01-01 00:00:00 and 2022-01-01 00:00:00 is:\n",
      "731 days, 0 hours, and 0 minutes\n"
     ]
    }
   ],
   "source": [
    "import pandas as pd\n",
    "\n",
    "date1 = input(\"Enter the first date (YYYY-MM-DD): \")\n",
    "date2 = input(\"Enter the second date (YYYY-MM-DD): \")\n",
    "\n",
    "date1 = pd.Timestamp(date1)\n",
    "date2 = pd.Timestamp(date2)\n",
    "\n",
    "time_diff = date2 - date1\n",
    "\n",
    "days_diff = time_diff.days\n",
    "hours_diff = time_diff.seconds // 3600\n",
    "minutes_diff = (time_diff.seconds % 3600) // 60\n",
    "\n",
    "print(f\"The time difference between {date1} and {date2} is:\")\n",
    "print(f\"{days_diff} days, {hours_diff} hours, and {minutes_diff} minutes\")"
   ]
  },
  {
   "cell_type": "markdown",
   "id": "56a9602e-94f8-416b-a27a-e9c610a11a66",
   "metadata": {},
   "source": [
    "# Ans 9"
   ]
  },
  {
   "cell_type": "code",
   "execution_count": null,
   "id": "b54c13c5-1254-4b8f-aa22-5a3396bc043d",
   "metadata": {},
   "outputs": [],
   "source": []
  }
 ],
 "metadata": {
  "kernelspec": {
   "display_name": "Python 3 (ipykernel)",
   "language": "python",
   "name": "python3"
  },
  "language_info": {
   "codemirror_mode": {
    "name": "ipython",
    "version": 3
   },
   "file_extension": ".py",
   "mimetype": "text/x-python",
   "name": "python",
   "nbconvert_exporter": "python",
   "pygments_lexer": "ipython3",
   "version": "3.10.8"
  }
 },
 "nbformat": 4,
 "nbformat_minor": 5
}
